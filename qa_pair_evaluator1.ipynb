{
  "nbformat": 4,
  "nbformat_minor": 0,
  "metadata": {
    "colab": {
      "provenance": [],
      "include_colab_link": true
    },
    "kernelspec": {
      "name": "python3",
      "display_name": "Python 3"
    },
    "language_info": {
      "name": "python"
    }
  },
  "cells": [
    {
      "cell_type": "markdown",
      "metadata": {
        "id": "view-in-github",
        "colab_type": "text"
      },
      "source": [
        "<a href=\"https://colab.research.google.com/github/erindakapllani/question_generator/blob/main/qa_pair_evaluator1.ipynb\" target=\"_parent\"><img src=\"https://colab.research.google.com/assets/colab-badge.svg\" alt=\"Open In Colab\"/></a>"
      ]
    },
    {
      "cell_type": "code",
      "source": [
        "# Step 1: Install and import required packages\n",
        "!pip install pymupdf\n",
        "\n",
        "from google.colab import files\n",
        "import fitz  # PyMuPDF\n",
        "import random\n",
        "import pandas as pd\n"
      ],
      "metadata": {
        "id": "bKnJwXI5RsHp",
        "outputId": "e163cb88-f3fd-44b6-ca20-47f0dafc48d3",
        "colab": {
          "base_uri": "https://localhost:8080/"
        }
      },
      "execution_count": 46,
      "outputs": [
        {
          "output_type": "stream",
          "name": "stdout",
          "text": [
            "Requirement already satisfied: pymupdf in /usr/local/lib/python3.10/dist-packages (1.24.8)\n",
            "Requirement already satisfied: PyMuPDFb==1.24.8 in /usr/local/lib/python3.10/dist-packages (from pymupdf) (1.24.8)\n"
          ]
        }
      ]
    },
    {
      "cell_type": "code",
      "source": [
        "import re  # Import the re module\n"
      ],
      "metadata": {
        "id": "okw2nsWsHrke"
      },
      "execution_count": 47,
      "outputs": []
    },
    {
      "cell_type": "code",
      "source": [
        "# Step 5: Combine texts from all PDFs\n",
        "combined_text = \"\"\"\n",
        "Effects predictions should consider the effects of climate and environmental change on populations of non-human biota that could adversely alter predicted environmental effects due to site activities or introduce new potential environmental effects. The mitigation plans for prevention or reduction of plant intake fouling should take into account projected effects of climate change, including frazil ice and bio-fouling (mussels, algae, marine plants).\n",
        "Future meteorological conditions (that is, accounting for climate change) and the extent of thermal plume from modelling should be used as a basis for extrapolating the long-term ice conditions / silt / fish / mussel / algae density observations for source water body and future potential for effects on the project. Experience with similar operating facilities, such as thermal and nuclear power plants using the same or a similar source water body, should also be considered.\n",
        "\"\"\"  # Replace this with your actual text"
      ],
      "metadata": {
        "id": "DhWMwvYmTxwf"
      },
      "execution_count": 48,
      "outputs": []
    },
    {
      "cell_type": "code",
      "source": [
        "# Step 7: Function to get a random chunk from the combined text\n",
        "def get_random_chunk(text, chunk_size=920):\n",
        "    start_index = random.randint(0, len(text) - chunk_size)\n",
        "    return text[start_index:start_index + chunk_size]"
      ],
      "metadata": {
        "id": "iWjr7qC4fow8"
      },
      "execution_count": 89,
      "outputs": []
    },
    {
      "cell_type": "code",
      "source": [
        "# Step 8: Select a random chunk from the combined text\n",
        "random_chunk = get_random_chunk(combined_text)\n",
        "\n",
        "print(\"Random Text Chunk:\")\n",
        "print(random_chunk)"
      ],
      "metadata": {
        "colab": {
          "base_uri": "https://localhost:8080/"
        },
        "id": "bLWQVF0lCK6P",
        "outputId": "72d510a3-4e18-439d-aab3-635a8d1f61b5"
      },
      "execution_count": 90,
      "outputs": [
        {
          "output_type": "stream",
          "name": "stdout",
          "text": [
            "Random Text Chunk:\n",
            "Effects predictions should consider the effects of climate and environmental change on populations of non-human biota that could adversely alter predicted environmental effects due to site activities or introduce new potential environmental effects. The mitigation plans for prevention or reduction of plant intake fouling should take into account projected effects of climate change, including frazil ice and bio-fouling (mussels, algae, marine plants).\n",
            "Future meteorological conditions (that is, accounting for climate change) and the extent of thermal plume from modelling should be used as a basis for extrapolating the long-term ice conditions / silt / fish / mussel / algae density observations for source water body and future potential for effects on the project. Experience with similar operating facilities, such as thermal and nuclear power plants using the same or a similar source water body, should also be\n"
          ]
        }
      ]
    },
    {
      "cell_type": "code",
      "source": [
        "# Step 9: Upload the CSV file containing QA pairs\n",
        "uploaded_csv = files.upload()"
      ],
      "metadata": {
        "colab": {
          "base_uri": "https://localhost:8080/",
          "height": 73
        },
        "id": "31O3eMKJCNP3",
        "outputId": "a4fca0b5-afd0-44d2-d822-295e557d6de9"
      },
      "execution_count": 81,
      "outputs": [
        {
          "output_type": "display_data",
          "data": {
            "text/plain": [
              "<IPython.core.display.HTML object>"
            ],
            "text/html": [
              "\n",
              "     <input type=\"file\" id=\"files-ae381575-5f5c-4b4a-ae69-17990781a056\" name=\"files[]\" multiple disabled\n",
              "        style=\"border:none\" />\n",
              "     <output id=\"result-ae381575-5f5c-4b4a-ae69-17990781a056\">\n",
              "      Upload widget is only available when the cell has been executed in the\n",
              "      current browser session. Please rerun this cell to enable.\n",
              "      </output>\n",
              "      <script>// Copyright 2017 Google LLC\n",
              "//\n",
              "// Licensed under the Apache License, Version 2.0 (the \"License\");\n",
              "// you may not use this file except in compliance with the License.\n",
              "// You may obtain a copy of the License at\n",
              "//\n",
              "//      http://www.apache.org/licenses/LICENSE-2.0\n",
              "//\n",
              "// Unless required by applicable law or agreed to in writing, software\n",
              "// distributed under the License is distributed on an \"AS IS\" BASIS,\n",
              "// WITHOUT WARRANTIES OR CONDITIONS OF ANY KIND, either express or implied.\n",
              "// See the License for the specific language governing permissions and\n",
              "// limitations under the License.\n",
              "\n",
              "/**\n",
              " * @fileoverview Helpers for google.colab Python module.\n",
              " */\n",
              "(function(scope) {\n",
              "function span(text, styleAttributes = {}) {\n",
              "  const element = document.createElement('span');\n",
              "  element.textContent = text;\n",
              "  for (const key of Object.keys(styleAttributes)) {\n",
              "    element.style[key] = styleAttributes[key];\n",
              "  }\n",
              "  return element;\n",
              "}\n",
              "\n",
              "// Max number of bytes which will be uploaded at a time.\n",
              "const MAX_PAYLOAD_SIZE = 100 * 1024;\n",
              "\n",
              "function _uploadFiles(inputId, outputId) {\n",
              "  const steps = uploadFilesStep(inputId, outputId);\n",
              "  const outputElement = document.getElementById(outputId);\n",
              "  // Cache steps on the outputElement to make it available for the next call\n",
              "  // to uploadFilesContinue from Python.\n",
              "  outputElement.steps = steps;\n",
              "\n",
              "  return _uploadFilesContinue(outputId);\n",
              "}\n",
              "\n",
              "// This is roughly an async generator (not supported in the browser yet),\n",
              "// where there are multiple asynchronous steps and the Python side is going\n",
              "// to poll for completion of each step.\n",
              "// This uses a Promise to block the python side on completion of each step,\n",
              "// then passes the result of the previous step as the input to the next step.\n",
              "function _uploadFilesContinue(outputId) {\n",
              "  const outputElement = document.getElementById(outputId);\n",
              "  const steps = outputElement.steps;\n",
              "\n",
              "  const next = steps.next(outputElement.lastPromiseValue);\n",
              "  return Promise.resolve(next.value.promise).then((value) => {\n",
              "    // Cache the last promise value to make it available to the next\n",
              "    // step of the generator.\n",
              "    outputElement.lastPromiseValue = value;\n",
              "    return next.value.response;\n",
              "  });\n",
              "}\n",
              "\n",
              "/**\n",
              " * Generator function which is called between each async step of the upload\n",
              " * process.\n",
              " * @param {string} inputId Element ID of the input file picker element.\n",
              " * @param {string} outputId Element ID of the output display.\n",
              " * @return {!Iterable<!Object>} Iterable of next steps.\n",
              " */\n",
              "function* uploadFilesStep(inputId, outputId) {\n",
              "  const inputElement = document.getElementById(inputId);\n",
              "  inputElement.disabled = false;\n",
              "\n",
              "  const outputElement = document.getElementById(outputId);\n",
              "  outputElement.innerHTML = '';\n",
              "\n",
              "  const pickedPromise = new Promise((resolve) => {\n",
              "    inputElement.addEventListener('change', (e) => {\n",
              "      resolve(e.target.files);\n",
              "    });\n",
              "  });\n",
              "\n",
              "  const cancel = document.createElement('button');\n",
              "  inputElement.parentElement.appendChild(cancel);\n",
              "  cancel.textContent = 'Cancel upload';\n",
              "  const cancelPromise = new Promise((resolve) => {\n",
              "    cancel.onclick = () => {\n",
              "      resolve(null);\n",
              "    };\n",
              "  });\n",
              "\n",
              "  // Wait for the user to pick the files.\n",
              "  const files = yield {\n",
              "    promise: Promise.race([pickedPromise, cancelPromise]),\n",
              "    response: {\n",
              "      action: 'starting',\n",
              "    }\n",
              "  };\n",
              "\n",
              "  cancel.remove();\n",
              "\n",
              "  // Disable the input element since further picks are not allowed.\n",
              "  inputElement.disabled = true;\n",
              "\n",
              "  if (!files) {\n",
              "    return {\n",
              "      response: {\n",
              "        action: 'complete',\n",
              "      }\n",
              "    };\n",
              "  }\n",
              "\n",
              "  for (const file of files) {\n",
              "    const li = document.createElement('li');\n",
              "    li.append(span(file.name, {fontWeight: 'bold'}));\n",
              "    li.append(span(\n",
              "        `(${file.type || 'n/a'}) - ${file.size} bytes, ` +\n",
              "        `last modified: ${\n",
              "            file.lastModifiedDate ? file.lastModifiedDate.toLocaleDateString() :\n",
              "                                    'n/a'} - `));\n",
              "    const percent = span('0% done');\n",
              "    li.appendChild(percent);\n",
              "\n",
              "    outputElement.appendChild(li);\n",
              "\n",
              "    const fileDataPromise = new Promise((resolve) => {\n",
              "      const reader = new FileReader();\n",
              "      reader.onload = (e) => {\n",
              "        resolve(e.target.result);\n",
              "      };\n",
              "      reader.readAsArrayBuffer(file);\n",
              "    });\n",
              "    // Wait for the data to be ready.\n",
              "    let fileData = yield {\n",
              "      promise: fileDataPromise,\n",
              "      response: {\n",
              "        action: 'continue',\n",
              "      }\n",
              "    };\n",
              "\n",
              "    // Use a chunked sending to avoid message size limits. See b/62115660.\n",
              "    let position = 0;\n",
              "    do {\n",
              "      const length = Math.min(fileData.byteLength - position, MAX_PAYLOAD_SIZE);\n",
              "      const chunk = new Uint8Array(fileData, position, length);\n",
              "      position += length;\n",
              "\n",
              "      const base64 = btoa(String.fromCharCode.apply(null, chunk));\n",
              "      yield {\n",
              "        response: {\n",
              "          action: 'append',\n",
              "          file: file.name,\n",
              "          data: base64,\n",
              "        },\n",
              "      };\n",
              "\n",
              "      let percentDone = fileData.byteLength === 0 ?\n",
              "          100 :\n",
              "          Math.round((position / fileData.byteLength) * 100);\n",
              "      percent.textContent = `${percentDone}% done`;\n",
              "\n",
              "    } while (position < fileData.byteLength);\n",
              "  }\n",
              "\n",
              "  // All done.\n",
              "  yield {\n",
              "    response: {\n",
              "      action: 'complete',\n",
              "    }\n",
              "  };\n",
              "}\n",
              "\n",
              "scope.google = scope.google || {};\n",
              "scope.google.colab = scope.google.colab || {};\n",
              "scope.google.colab._files = {\n",
              "  _uploadFiles,\n",
              "  _uploadFilesContinue,\n",
              "};\n",
              "})(self);\n",
              "</script> "
            ]
          },
          "metadata": {}
        },
        {
          "output_type": "stream",
          "name": "stdout",
          "text": [
            "Saving CNSC_qa_pairs.csv to CNSC_qa_pairs (6).csv\n"
          ]
        }
      ]
    },
    {
      "cell_type": "code",
      "source": [
        "# Step 10: Load QA pairs from the CSV file\n",
        "filename = 'CNSC_qa_pairs (6).csv'\n",
        "qa_pairs = pd.read_csv(filename, encoding='latin1')  # Adjust encoding if necessary\n"
      ],
      "metadata": {
        "id": "Dr47rpAiCUZe"
      },
      "execution_count": 84,
      "outputs": []
    },
    {
      "cell_type": "code",
      "source": [
        "# Step 11: Select a random sample of QA pairs\n",
        "sample_qa_pairs = qa_pairs.sample(n=1)  # Adjust the number of samples as needed\n",
        "\n",
        "# Display the sample QA pairs\n",
        "print(\"Sample QA Pairs:\")\n",
        "print(sample_qa_pairs)"
      ],
      "metadata": {
        "colab": {
          "base_uri": "https://localhost:8080/"
        },
        "id": "EGS-ahzBCXp3",
        "outputId": "f3d4122b-5e66-4f09-f2a1-b0e931fd3901"
      },
      "execution_count": 85,
      "outputs": [
        {
          "output_type": "stream",
          "name": "stdout",
          "text": [
            "Sample QA Pairs:\n",
            "                                           Questions  \\\n",
            "0  <question>Why should effects predictions also ...   \n",
            "\n",
            "                                             Answers  \n",
            "0  <answer>Effects predictions should also consid...  \n"
          ]
        }
      ]
    },
    {
      "cell_type": "code",
      "source": [
        "# Step 12: Function to preprocess text (optional but recommended)\n",
        "def preprocess_text(text):\n",
        "    text = text.lower()\n",
        "    text = re.sub(r'\\s+', ' ', text)  # Remove extra whitespaces\n",
        "    text = re.sub(r'[^\\w\\s]', '', text)  # Remove punctuation\n",
        "    return text\n",
        "\n",
        "# Step 13: Function to cross-check QA pairs with text chunk using improved string matching\n",
        "def cross_check_qa_pairs(text_chunk, qa_pairs):\n",
        "    import re\n",
        "\n",
        "    text_chunk = preprocess_text(text_chunk)  # Preprocess text chunk for better matching\n",
        "\n",
        "    for index, row in qa_pairs.iterrows():\n",
        "        question = row['Questions'].strip('<question>').strip('</question>')\n",
        "        answer = row['Answers'].strip('<answer>').strip('</answer>')\n",
        "\n",
        "        question = preprocess_text(question)  # Preprocess question\n",
        "        answer = preprocess_text(answer)  # Preprocess answer\n",
        "\n",
        "        question_found = re.search(re.escape(question), text_chunk, re.IGNORECASE)\n",
        "        answer_found = re.search(re.escape(answer), text_chunk, re.IGNORECASE)\n",
        "\n",
        "        if question_found or answer_found:\n",
        "            print(f\"Question: {question}\")\n",
        "            print(f\"Answer: {answer}\")\n",
        "            print(\"Context found in text chunk.\")\n",
        "            print(\"-\" * 80)\n",
        "        else:\n",
        "            print(f\"Question: {question}\")\n",
        "            print(f\"Answer: {answer}\")\n",
        "            print(\"No context found in text chunk.\")\n",
        "            print(\"-\" * 80)"
      ],
      "metadata": {
        "id": "vwpmlkDmCaEh"
      },
      "execution_count": 86,
      "outputs": []
    },
    {
      "cell_type": "code",
      "source": [
        "# Step 12: Function to preprocess text (optional but recommended)\n",
        "def preprocess_text(text):\n",
        "    text = text.lower()\n",
        "    text = re.sub(r'\\s+', ' ', text)  # Remove extra whitespaces\n",
        "    text = re.sub(r'[^\\w\\s]', '', text)  # Remove punctuation\n",
        "    return text\n",
        "\n",
        "# Step 13: Function to cross-check QA pairs with text chunk using improved string matching\n",
        "def cross_check_qa_pairs(text_chunk, qa_pairs):\n",
        "    import re\n",
        "\n",
        "    text_chunk = preprocess_text(text_chunk)  # Preprocess text chunk for better matching\n",
        "\n",
        "    for index, row in qa_pairs.iterrows():\n",
        "        question = row['Questions'].strip('<question>').strip('</question>')\n",
        "        answer = row['Answers'].strip('<answer>').strip('</answer>')\n",
        "\n",
        "        question = preprocess_text(question)  # Preprocess question\n",
        "        answer = preprocess_text(answer)  # Preprocess answer\n",
        "\n",
        "        question_found = re.search(re.escape(question), text_chunk, re.IGNORECASE)\n",
        "        answer_found = re.search(re.escape(answer), text_chunk, re.IGNORECASE)\n",
        "\n",
        "        if question_found or answer_found:\n",
        "            print(f\"Question: {question}\")\n",
        "            print(f\"Answer: {answer}\")\n",
        "            print(\"Context found in text chunk.\")\n",
        "            print(\"-\" * 80)\n",
        "        else:\n",
        "            print(f\"Question: {question}\")\n",
        "            print(f\"Answer: {answer}\")\n",
        "            print(\"No context found in text chunk.\")\n",
        "            print(\"-\" * 80)"
      ],
      "metadata": {
        "id": "RSvbjHCfCfaY"
      },
      "execution_count": 87,
      "outputs": []
    },
    {
      "cell_type": "code",
      "source": [
        "# Step 14: Cross-check the sample QA pairs with the random text chunk\n",
        "cross_check_qa_pairs(random_chunk, sample_qa_pairs)"
      ],
      "metadata": {
        "colab": {
          "base_uri": "https://localhost:8080/"
        },
        "id": "DDFoazsfCiwF",
        "outputId": "318c8db5-83de-4a13-fa25-65dc97c016b5"
      },
      "execution_count": 91,
      "outputs": [
        {
          "output_type": "stream",
          "name": "stdout",
          "text": [
            "Question: why should effects predictions also consider the effects of climate and environmental change on nonhuman biota populations\n",
            "Answer: effects predictions should also consider the effects of climate and environmental change on nonhuman biota populations because changes in these populations could adversely alter predicted environmental effects due to site activities or introduce new potential environmental effects\n",
            "No context found in text chunk.\n",
            "--------------------------------------------------------------------------------\n"
          ]
        }
      ]
    },
    {
      "cell_type": "code",
      "source": [],
      "metadata": {
        "id": "EiqnKnK5NedV"
      },
      "execution_count": null,
      "outputs": []
    }
  ]
}