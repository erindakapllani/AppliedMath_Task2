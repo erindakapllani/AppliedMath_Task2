{
  "nbformat": 4,
  "nbformat_minor": 0,
  "metadata": {
    "colab": {
      "provenance": [],
      "authorship_tag": "ABX9TyNJpGmeTGKoZn5qBVNg8qhl",
      "include_colab_link": true
    },
    "kernelspec": {
      "name": "python3",
      "display_name": "Python 3"
    },
    "language_info": {
      "name": "python"
    }
  },
  "cells": [
    {
      "cell_type": "markdown",
      "metadata": {
        "id": "view-in-github",
        "colab_type": "text"
      },
      "source": [
        "<a href=\"https://colab.research.google.com/github/erindakapllani/AppliedMath_Task2/blob/main/NLP.ipynb\" target=\"_parent\"><img src=\"https://colab.research.google.com/assets/colab-badge.svg\" alt=\"Open In Colab\"/></a>"
      ]
    },
    {
      "cell_type": "code",
      "execution_count": 16,
      "metadata": {
        "id": "GgLOjkPI7GZf"
      },
      "outputs": [],
      "source": [
        "import os"
      ]
    },
    {
      "cell_type": "code",
      "source": [
        "import spacy\n",
        "from spacy.matcher import Matcher"
      ],
      "metadata": {
        "id": "Ok73L9HD7jAj"
      },
      "execution_count": 17,
      "outputs": []
    },
    {
      "cell_type": "code",
      "source": [
        "# Load the SpaCy model\n",
        "nlp = spacy.load(\"en_core_web_sm\")"
      ],
      "metadata": {
        "id": "RsbUBU6Q7lqq"
      },
      "execution_count": 18,
      "outputs": []
    },
    {
      "cell_type": "code",
      "source": [
        "# Define the path to the folder containing the documents\n",
        "folder_path = '/content/Nuclear_safety'"
      ],
      "metadata": {
        "id": "BDZeUX4Y7qwH"
      },
      "execution_count": 19,
      "outputs": []
    },
    {
      "cell_type": "code",
      "source": [
        "# Function to read all text files from the folder\n",
        "def read_documents(folder_path):\n",
        "    documents = []\n",
        "    for filename in os.listdir(folder_path):\n",
        "        if filename.endswith('.txt'):\n",
        "            with open(os.path.join(folder_path, filename), 'r', encoding='utf-8') as file:\n",
        "                documents.append(file.read())\n",
        "    return documents"
      ],
      "metadata": {
        "id": "sDcbp6tA7vX7"
      },
      "execution_count": 20,
      "outputs": []
    },
    {
      "cell_type": "code",
      "source": [
        "# Function to generate questions based on entities\n",
        "def generate_questions(doc):\n",
        "    qa_pairs = []\n",
        "    for ent in doc.ents:\n",
        "        if ent.label_ in [\"PERSON\", \"ORG\", \"GPE\", \"DATE\", \"TIME\", \"MONEY\", \"PERCENT\"]:\n",
        "            question = f\"What is {ent.text}?\"\n",
        "            answer = ent.sent.text\n",
        "            qa_pairs.append((question, answer))\n",
        "        elif ent.label_ in [\"EVENT\", \"WORK_OF_ART\", \"LAW\"]:\n",
        "            question = f\"What is {ent.text} about?\"\n",
        "            answer = ent.sent.text\n",
        "            qa_pairs.append((question, answer))\n",
        "    return qa_pairs"
      ],
      "metadata": {
        "id": "1ug5suyx7yKs"
      },
      "execution_count": 21,
      "outputs": []
    },
    {
      "cell_type": "code",
      "source": [
        "# Function to generate questions based on nuclear-specific patterns\n",
        "def generate_rule_based_questions(doc):\n",
        "    matcher = Matcher(nlp.vocab)\n",
        "\n",
        "    # Define patterns specific to the nuclear industry\n",
        "    patterns = [\n",
        "        [{\"LOWER\": \"nuclear\"}, {\"LOWER\": \"reactor\"}],\n",
        "        [{\"LOWER\": \"nuclear\"}, {\"LOWER\": \"fission\"}],\n",
        "        [{\"LOWER\": \"uranium\"}],\n",
        "        [{\"LOWER\": \"pressurized\"}, {\"LOWER\": \"water\"}, {\"LOWER\": \"reactor\"}],\n",
        "        [{\"LOWER\": \"safety\"}, {\"LOWER\": \"measures\"}],\n",
        "        [{\"LOWER\": \"radiation\"}, {\"LOWER\": \"leaks\"}],\n",
        "        [{\"LOWER\": \"international\"}, {\"LOWER\": \"atomic\"}, {\"LOWER\": \"energy\"}, {\"LOWER\": \"agency\"}],\n",
        "    ]\n",
        "\n",
        "    # Adding patterns to the matcher\n",
        "    for i, pattern in enumerate(patterns):\n",
        "        matcher.add(f\"NUCLEAR_PATTERN_{i}\", [pattern])\n",
        "\n",
        "    # Processing the document and extracting QA pairs\n",
        "    qa_pairs = []\n",
        "    matches = matcher(doc)\n",
        "    for match_id, start, end in matches:\n",
        "        span = doc[start:end]\n",
        "        question = f\"What is {span.text}?\"\n",
        "        answer = span.sent.text\n",
        "        qa_pairs.append((question, answer))\n",
        "\n",
        "    return qa_pairs\n"
      ],
      "metadata": {
        "id": "gDevDOm870OL"
      },
      "execution_count": 22,
      "outputs": []
    },
    {
      "cell_type": "code",
      "source": [
        "# Main function to process documents and generate QA pairs\n",
        "def main():\n",
        "    documents = read_documents(folder_path)\n",
        "    all_qa_pairs = []\n",
        "\n",
        "    for document in documents:\n",
        "        doc = nlp(document)\n",
        "        qa_pairs = generate_rule_based_questions(doc)\n",
        "        all_qa_pairs.extend(qa_pairs)\n",
        "\n",
        "    # Output the QA pairs\n",
        "    for question, answer in all_qa_pairs:\n",
        "        print(f\"Question: {question}\\nAnswer: {answer}\\n\")"
      ],
      "metadata": {
        "id": "JmWIQvl_8Wa-"
      },
      "execution_count": 23,
      "outputs": []
    },
    {
      "cell_type": "code",
      "source": [
        "# Run the main function\n",
        "if __name__ == \"__main__\":\n",
        "    main()"
      ],
      "metadata": {
        "colab": {
          "base_uri": "https://localhost:8080/",
          "height": 321
        },
        "id": "7ltCkzDn8bo5",
        "outputId": "453a996a-91e7-4b3f-9b3e-255b003d61fe"
      },
      "execution_count": 24,
      "outputs": [
        {
          "output_type": "error",
          "ename": "FileNotFoundError",
          "evalue": "[Errno 2] No such file or directory: '/content/Nuclear_safety'",
          "traceback": [
            "\u001b[0;31m---------------------------------------------------------------------------\u001b[0m",
            "\u001b[0;31mFileNotFoundError\u001b[0m                         Traceback (most recent call last)",
            "\u001b[0;32m<ipython-input-24-b4d031890515>\u001b[0m in \u001b[0;36m<cell line: 2>\u001b[0;34m()\u001b[0m\n\u001b[1;32m      1\u001b[0m \u001b[0;31m# Run the main function\u001b[0m\u001b[0;34m\u001b[0m\u001b[0;34m\u001b[0m\u001b[0m\n\u001b[1;32m      2\u001b[0m \u001b[0;32mif\u001b[0m \u001b[0m__name__\u001b[0m \u001b[0;34m==\u001b[0m \u001b[0;34m\"__main__\"\u001b[0m\u001b[0;34m:\u001b[0m\u001b[0;34m\u001b[0m\u001b[0;34m\u001b[0m\u001b[0m\n\u001b[0;32m----> 3\u001b[0;31m     \u001b[0mmain\u001b[0m\u001b[0;34m(\u001b[0m\u001b[0;34m)\u001b[0m\u001b[0;34m\u001b[0m\u001b[0;34m\u001b[0m\u001b[0m\n\u001b[0m",
            "\u001b[0;32m<ipython-input-23-f72965a0a21f>\u001b[0m in \u001b[0;36mmain\u001b[0;34m()\u001b[0m\n\u001b[1;32m      1\u001b[0m \u001b[0;31m# Main function to process documents and generate QA pairs\u001b[0m\u001b[0;34m\u001b[0m\u001b[0;34m\u001b[0m\u001b[0m\n\u001b[1;32m      2\u001b[0m \u001b[0;32mdef\u001b[0m \u001b[0mmain\u001b[0m\u001b[0;34m(\u001b[0m\u001b[0;34m)\u001b[0m\u001b[0;34m:\u001b[0m\u001b[0;34m\u001b[0m\u001b[0;34m\u001b[0m\u001b[0m\n\u001b[0;32m----> 3\u001b[0;31m     \u001b[0mdocuments\u001b[0m \u001b[0;34m=\u001b[0m \u001b[0mread_documents\u001b[0m\u001b[0;34m(\u001b[0m\u001b[0mfolder_path\u001b[0m\u001b[0;34m)\u001b[0m\u001b[0;34m\u001b[0m\u001b[0;34m\u001b[0m\u001b[0m\n\u001b[0m\u001b[1;32m      4\u001b[0m     \u001b[0mall_qa_pairs\u001b[0m \u001b[0;34m=\u001b[0m \u001b[0;34m[\u001b[0m\u001b[0;34m]\u001b[0m\u001b[0;34m\u001b[0m\u001b[0;34m\u001b[0m\u001b[0m\n\u001b[1;32m      5\u001b[0m \u001b[0;34m\u001b[0m\u001b[0m\n",
            "\u001b[0;32m<ipython-input-20-91ec763a15c9>\u001b[0m in \u001b[0;36mread_documents\u001b[0;34m(folder_path)\u001b[0m\n\u001b[1;32m      2\u001b[0m \u001b[0;32mdef\u001b[0m \u001b[0mread_documents\u001b[0m\u001b[0;34m(\u001b[0m\u001b[0mfolder_path\u001b[0m\u001b[0;34m)\u001b[0m\u001b[0;34m:\u001b[0m\u001b[0;34m\u001b[0m\u001b[0;34m\u001b[0m\u001b[0m\n\u001b[1;32m      3\u001b[0m     \u001b[0mdocuments\u001b[0m \u001b[0;34m=\u001b[0m \u001b[0;34m[\u001b[0m\u001b[0;34m]\u001b[0m\u001b[0;34m\u001b[0m\u001b[0;34m\u001b[0m\u001b[0m\n\u001b[0;32m----> 4\u001b[0;31m     \u001b[0;32mfor\u001b[0m \u001b[0mfilename\u001b[0m \u001b[0;32min\u001b[0m \u001b[0mos\u001b[0m\u001b[0;34m.\u001b[0m\u001b[0mlistdir\u001b[0m\u001b[0;34m(\u001b[0m\u001b[0mfolder_path\u001b[0m\u001b[0;34m)\u001b[0m\u001b[0;34m:\u001b[0m\u001b[0;34m\u001b[0m\u001b[0;34m\u001b[0m\u001b[0m\n\u001b[0m\u001b[1;32m      5\u001b[0m         \u001b[0;32mif\u001b[0m \u001b[0mfilename\u001b[0m\u001b[0;34m.\u001b[0m\u001b[0mendswith\u001b[0m\u001b[0;34m(\u001b[0m\u001b[0;34m'.txt'\u001b[0m\u001b[0;34m)\u001b[0m\u001b[0;34m:\u001b[0m\u001b[0;34m\u001b[0m\u001b[0;34m\u001b[0m\u001b[0m\n\u001b[1;32m      6\u001b[0m             \u001b[0;32mwith\u001b[0m \u001b[0mopen\u001b[0m\u001b[0;34m(\u001b[0m\u001b[0mos\u001b[0m\u001b[0;34m.\u001b[0m\u001b[0mpath\u001b[0m\u001b[0;34m.\u001b[0m\u001b[0mjoin\u001b[0m\u001b[0;34m(\u001b[0m\u001b[0mfolder_path\u001b[0m\u001b[0;34m,\u001b[0m \u001b[0mfilename\u001b[0m\u001b[0;34m)\u001b[0m\u001b[0;34m,\u001b[0m \u001b[0;34m'r'\u001b[0m\u001b[0;34m,\u001b[0m \u001b[0mencoding\u001b[0m\u001b[0;34m=\u001b[0m\u001b[0;34m'utf-8'\u001b[0m\u001b[0;34m)\u001b[0m \u001b[0;32mas\u001b[0m \u001b[0mfile\u001b[0m\u001b[0;34m:\u001b[0m\u001b[0;34m\u001b[0m\u001b[0;34m\u001b[0m\u001b[0m\n",
            "\u001b[0;31mFileNotFoundError\u001b[0m: [Errno 2] No such file or directory: '/content/Nuclear_safety'"
          ]
        }
      ]
    }
  ]
}