{
  "nbformat": 4,
  "nbformat_minor": 0,
  "metadata": {
    "colab": {
      "provenance": [],
      "gpuType": "T4",
      "authorship_tag": "ABX9TyP8GyuP61rgNUMGOKJGnCIK",
      "include_colab_link": true
    },
    "kernelspec": {
      "name": "python3",
      "display_name": "Python 3"
    },
    "language_info": {
      "name": "python"
    },
    "accelerator": "GPU"
  },
  "cells": [
    {
      "cell_type": "markdown",
      "metadata": {
        "id": "view-in-github",
        "colab_type": "text"
      },
      "source": [
        "<a href=\"https://colab.research.google.com/github/erindakapllani/question_generator/blob/main/QA_Pairs_Generation.ipynb\" target=\"_parent\"><img src=\"https://colab.research.google.com/assets/colab-badge.svg\" alt=\"Open In Colab\"/></a>"
      ]
    },
    {
      "cell_type": "code",
      "execution_count": 3,
      "metadata": {
        "colab": {
          "base_uri": "https://localhost:8080/"
        },
        "id": "sEXZklLs_6ey",
        "outputId": "2d37bce5-2a48-406d-8e00-ecb358ad412b"
      },
      "outputs": [
        {
          "output_type": "stream",
          "name": "stdout",
          "text": [
            "Requirement already satisfied: transformers in /usr/local/lib/python3.10/dist-packages (4.41.2)\n",
            "Requirement already satisfied: filelock in /usr/local/lib/python3.10/dist-packages (from transformers) (3.15.4)\n",
            "Requirement already satisfied: huggingface-hub<1.0,>=0.23.0 in /usr/local/lib/python3.10/dist-packages (from transformers) (0.23.4)\n",
            "Requirement already satisfied: numpy>=1.17 in /usr/local/lib/python3.10/dist-packages (from transformers) (1.25.2)\n",
            "Requirement already satisfied: packaging>=20.0 in /usr/local/lib/python3.10/dist-packages (from transformers) (24.1)\n",
            "Requirement already satisfied: pyyaml>=5.1 in /usr/local/lib/python3.10/dist-packages (from transformers) (6.0.1)\n",
            "Requirement already satisfied: regex!=2019.12.17 in /usr/local/lib/python3.10/dist-packages (from transformers) (2024.5.15)\n",
            "Requirement already satisfied: requests in /usr/local/lib/python3.10/dist-packages (from transformers) (2.31.0)\n",
            "Requirement already satisfied: tokenizers<0.20,>=0.19 in /usr/local/lib/python3.10/dist-packages (from transformers) (0.19.1)\n",
            "Requirement already satisfied: safetensors>=0.4.1 in /usr/local/lib/python3.10/dist-packages (from transformers) (0.4.3)\n",
            "Requirement already satisfied: tqdm>=4.27 in /usr/local/lib/python3.10/dist-packages (from transformers) (4.66.4)\n",
            "Requirement already satisfied: fsspec>=2023.5.0 in /usr/local/lib/python3.10/dist-packages (from huggingface-hub<1.0,>=0.23.0->transformers) (2023.6.0)\n",
            "Requirement already satisfied: typing-extensions>=3.7.4.3 in /usr/local/lib/python3.10/dist-packages (from huggingface-hub<1.0,>=0.23.0->transformers) (4.12.2)\n",
            "Requirement already satisfied: charset-normalizer<4,>=2 in /usr/local/lib/python3.10/dist-packages (from requests->transformers) (3.3.2)\n",
            "Requirement already satisfied: idna<4,>=2.5 in /usr/local/lib/python3.10/dist-packages (from requests->transformers) (3.7)\n",
            "Requirement already satisfied: urllib3<3,>=1.21.1 in /usr/local/lib/python3.10/dist-packages (from requests->transformers) (2.0.7)\n",
            "Requirement already satisfied: certifi>=2017.4.17 in /usr/local/lib/python3.10/dist-packages (from requests->transformers) (2024.6.2)\n",
            "Requirement already satisfied: nltk in /usr/local/lib/python3.10/dist-packages (3.8.1)\n",
            "Requirement already satisfied: click in /usr/local/lib/python3.10/dist-packages (from nltk) (8.1.7)\n",
            "Requirement already satisfied: joblib in /usr/local/lib/python3.10/dist-packages (from nltk) (1.4.2)\n",
            "Requirement already satisfied: regex>=2021.8.3 in /usr/local/lib/python3.10/dist-packages (from nltk) (2024.5.15)\n",
            "Requirement already satisfied: tqdm in /usr/local/lib/python3.10/dist-packages (from nltk) (4.66.4)\n",
            "Cloning into 'question_generator'...\n",
            "remote: Enumerating objects: 80, done.\u001b[K\n",
            "remote: Counting objects: 100% (80/80), done.\u001b[K\n",
            "remote: Compressing objects: 100% (75/75), done.\u001b[K\n",
            "remote: Total 80 (delta 34), reused 0 (delta 0), pack-reused 0\u001b[K\n",
            "Receiving objects: 100% (80/80), 341.57 KiB | 10.67 MiB/s, done.\n",
            "Resolving deltas: 100% (34/34), done.\n",
            "/content/question_generator/question_generator/question_generator\n"
          ]
        },
        {
          "output_type": "stream",
          "name": "stderr",
          "text": [
            "Special tokens have been added in the vocabulary, make sure the associated word embeddings are fine-tuned or trained.\n"
          ]
        },
        {
          "output_type": "stream",
          "name": "stdout",
          "text": [
            "Generating questions...\n",
            "\n",
            "Evaluating QA pairs...\n",
            "\n",
            "1) Q: What are the types of inspections that are required to determine systemic problems in licensee activities?\n",
            "   A: Type II inspections are point-in-time, snapshot verifications of licensee activities, which focus on outputs or performance of licensee programs, processes and practices.\n",
            "\n",
            "2) Q: What is the role of Type II inspections in determining systemic problems in licensee programs?\n",
            "   A: Findings from Type II inspections play a key role in identifying where a Type I inspection may be required to determine systemic problems in licensee programs, processes or practices.\n",
            "\n",
            "3) Q: The proposed amendments to the Class II regulations are being worked on in preparation for the formal pre?\n",
            "   A: Justice Canada and CNSC are working on the wording for the proposed amendments to the Class II regulations in preparation for the formal pre-consultation.\n",
            "\n",
            "4) Q: What is the reason why CNSC has experienced a substantial increase in its workload?\n",
            "   A: As a result of growing activity in all areas of the nuclear sector over the past several years, CNSC has experienced a substantial increase in its workload in most areas of its responsibility.\n",
            "\n",
            "5) Q: What did CNSC do to ensure that it could perform its regulatory responsibilities?\n",
            "   A: To ensure that CNSC can perform its regulatory licensing and compliance responsibilities associated with this growth, we refocused efforts to respond to these developments and the proposed plans for new uranium mining and processing, while ensuring safety and security of existing facilities.\n",
            "\n",
            "6) Q: What is the current status of CNSC's revenue spending authority?\n",
            "   A: This authority is being phased in over a two-year period, with full implementation of revenue spending authority for all cost-recoverable activities effective for 2009-2010.\n",
            "\n",
            "7) Q: What is the role of CNSC in ensuring the safety and security of high-risk?\n",
            "   A: As the first country with such robust inventory tracking, Canada has set an international example for ensuring the safety and security of high-risk radioactive sealed sources.\n",
            "\n",
            "8) Q: What was the role of CNSC in enforcing compliance with nuclear substances?\n",
            "   A: Assuring Canadians of the Continuing Compliance and Safety Performance of Licensees CNSC’s role in enforcing compliance with nuclear substance-related licences was illustrated in June 2007, when the Commission Tribunal concluded that 588972 Alberta Ltd.\n",
            "\n",
            "9) Q: What is the best way to improve the safety of Canadians?\n",
            "   A: These are just a few examples of the excellent work CNSC has undertaken over the past year to enhance the health, safety and security of Canadians and the environment.\n",
            "\n",
            "10) Q: What is the purpose of the 2007 Staff Report on the Safety Performance of the Canadian Nuclear Power Industry?\n",
            "    A: Assure Canadians of the continuing compliance and safety performance of licensees Execute baseline compliance program requirements As stated in the 2007 Staff Report on the Safety Performance of the Canadian Nuclear Power Industry (Industry Report), CNSC concluded that overall, the Canadian nuclear power plant industry operated safely.\n",
            "\n"
          ]
        }
      ],
      "source": [
        "# Install necessary libraries\n",
        "!pip install transformers\n",
        "!pip install nltk\n",
        "\n",
        "# Clone the question generator repository\n",
        "!git clone https://github.com/erindakapllani/question_generator/\n",
        "%cd question_generator/\n",
        "\n",
        "# Import necessary libraries\n",
        "import torch\n",
        "from questiongenerator import QuestionGenerator, print_qa\n",
        "from nltk import sent_tokenize\n",
        "\n",
        "# Ensure GPU is being used\n",
        "device = torch.device('cuda' if torch.cuda.is_available() else 'cpu')\n",
        "assert device == torch.device('cuda'), \"Not using CUDA. Set: Runtime > Change runtime type > Hardware Accelerator: GPU\"\n",
        "\n",
        "# Initialize the Question Generator\n",
        "qg = QuestionGenerator()\n",
        "\n",
        "# Load article\n",
        "with open('articles/nuclear_safety.txt', 'r') as a:\n",
        "    article = a.read()\n",
        "\n",
        "# Generate questions\n",
        "qa_list = qg.generate(article, num_questions=10, answer_style='all')\n",
        "print_qa(qa_list)\n"
      ]
    }
  ]
}